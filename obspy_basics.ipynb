{
  "nbformat": 4,
  "nbformat_minor": 0,
  "metadata": {
    "colab": {
      "provenance": [],
      "authorship_tag": "ABX9TyMShDV4Yp0eYh2b3qNf1BCT",
      "include_colab_link": true
    },
    "kernelspec": {
      "name": "python3",
      "display_name": "Python 3"
    },
    "language_info": {
      "name": "python"
    }
  },
  "cells": [
    {
      "cell_type": "markdown",
      "metadata": {
        "id": "view-in-github",
        "colab_type": "text"
      },
      "source": [
        "<a href=\"https://colab.research.google.com/github/rifqirahmandito/obspy_basics/blob/main/obspy_basics.ipynb\" target=\"_parent\"><img src=\"https://colab.research.google.com/assets/colab-badge.svg\" alt=\"Open In Colab\"/></a>"
      ]
    },
    {
      "cell_type": "code",
      "source": [
        "from obspy import read\n",
        "\n",
        "st = read('/content/2022-08-01_05-51-16-MP.msd')\n",
        "st\n",
        "\n",
        "# data used courtesy of BPPTKG Yogyakarta"
      ],
      "metadata": {
        "colab": {
          "base_uri": "https://localhost:8080/"
        },
        "id": "3C4CycNSAiEv",
        "outputId": "fd6c7168-0abf-4706-8be5-e2fbe356d526"
      },
      "execution_count": 53,
      "outputs": [
        {
          "output_type": "execute_result",
          "data": {
            "text/plain": [
              "6 Trace(s) in Stream:\n",
              "VG.MELAB.00.HHE | 2022-08-01T05:51:11.000000Z - 2022-08-01T05:51:41.000000Z | 100.0 Hz, 3001 samples\n",
              "VG.MELAB.00.HHN | 2022-08-01T05:51:11.000000Z - 2022-08-01T05:51:41.000000Z | 100.0 Hz, 3001 samples\n",
              "VG.MELAB.00.HHZ | 2022-08-01T05:51:11.000000Z - 2022-08-01T05:51:41.000000Z | 100.0 Hz, 3001 samples\n",
              "VG.MEPAS.00.HHE | 2022-08-01T05:51:11.000000Z - 2022-08-01T05:51:41.000000Z | 100.0 Hz, 3001 samples\n",
              "VG.MEPAS.00.HHN | 2022-08-01T05:51:11.000000Z - 2022-08-01T05:51:41.000000Z | 100.0 Hz, 3001 samples\n",
              "VG.MEPAS.00.HHZ | 2022-08-01T05:51:11.000000Z - 2022-08-01T05:51:41.000000Z | 100.0 Hz, 3001 samples"
            ]
          },
          "metadata": {},
          "execution_count": 53
        }
      ]
    },
    {
      "cell_type": "markdown",
      "source": [
        "data di atas menunjukkan bahwa terdapat 6 trace dengan rincian sebagai berikut:\n",
        "- 3 trace dari seismometer 3 komponen stasiun Merapi PAS (MEPAS)\n",
        "- 3 trace dari seismometer 3 komponen stasiun Merapi LAB (MELAB)\n",
        "\n",
        "seismometer 3 komponen merekam event pada arah:\n",
        "- utara-selatan (HHN)\n",
        "- timur-barat (HHE)\n",
        "- vertikal (HHZ)\n",
        "\n",
        "kita bisa cek ada berapa trace dalam suatu stream dengan melihat panjang stream tersebut"
      ],
      "metadata": {
        "id": "uybrQBIsEIyF"
      }
    },
    {
      "cell_type": "code",
      "source": [
        "print(len(st))"
      ],
      "metadata": {
        "colab": {
          "base_uri": "https://localhost:8080/"
        },
        "id": "bYwza0mpGILB",
        "outputId": "3f4e4520-5e1b-4681-faca-de97ccf41d2e"
      },
      "execution_count": 27,
      "outputs": [
        {
          "output_type": "stream",
          "name": "stdout",
          "text": [
            "6\n"
          ]
        }
      ]
    },
    {
      "cell_type": "markdown",
      "source": [
        "\n",
        "apabila kita hanya ingin mengambil trace komponen vertikal dari stasiun MEPAS, kita bisa menggunakan stream.select()"
      ],
      "metadata": {
        "id": "tHa1HQXJFyKN"
      }
    },
    {
      "cell_type": "code",
      "source": [
        "st = st.select(station='MEPAS', channel='HHZ')\n",
        "st"
      ],
      "metadata": {
        "colab": {
          "base_uri": "https://localhost:8080/"
        },
        "id": "jKyFshy2AyVr",
        "outputId": "a2cff673-b935-434e-89ba-64d8fc54062f"
      },
      "execution_count": 32,
      "outputs": [
        {
          "output_type": "execute_result",
          "data": {
            "text/plain": [
              "1 Trace(s) in Stream:\n",
              "VG.MEPAS.00.HHZ | 2022-08-01T05:51:11.000000Z - 2022-08-01T05:51:41.000000Z | 100.0 Hz, 3001 samples"
            ]
          },
          "metadata": {},
          "execution_count": 32
        }
      ]
    },
    {
      "cell_type": "markdown",
      "source": [
        "kemudian kita assign trace tersebut ke dalam variable baru dengan mengakses komponen pertama dan satu-satunya dalam stream baru kita yang sudah dipilih stasiun dan channel-nya"
      ],
      "metadata": {
        "id": "Xe3YilxFGcNn"
      }
    },
    {
      "cell_type": "code",
      "source": [
        "tr = st[0]"
      ],
      "metadata": {
        "id": "8K0KUtrFDLLn"
      },
      "execution_count": 33,
      "outputs": []
    },
    {
      "cell_type": "markdown",
      "source": [
        "meta data trace seismik dapat diakses menggunakan trace.stats"
      ],
      "metadata": {
        "id": "AKDXbjbXHB3k"
      }
    },
    {
      "cell_type": "code",
      "source": [
        "print(tr.stats)"
      ],
      "metadata": {
        "colab": {
          "base_uri": "https://localhost:8080/"
        },
        "id": "0RHyy3PJDv_3",
        "outputId": "4730ed78-f0fb-45ed-cb37-464894071226"
      },
      "execution_count": 34,
      "outputs": [
        {
          "output_type": "stream",
          "name": "stdout",
          "text": [
            "         network: VG\n",
            "         station: MEPAS\n",
            "        location: 00\n",
            "         channel: HHZ\n",
            "       starttime: 2022-08-01T05:51:11.000000Z\n",
            "         endtime: 2022-08-01T05:51:41.000000Z\n",
            "   sampling_rate: 100.0\n",
            "           delta: 0.01\n",
            "            npts: 3001\n",
            "           calib: 1.0\n",
            "         _format: MSEED\n",
            "           mseed: AttribDict({'dataquality': 'D', 'number_of_records': 11, 'encoding': 'STEIM2', 'byteorder': '>', 'record_length': 512, 'filesize': 33280})\n"
          ]
        }
      ]
    },
    {
      "cell_type": "markdown",
      "source": [
        "nilai amplitudo seismogram dapat diakses dalam bentuk array menggunakan trace.data"
      ],
      "metadata": {
        "id": "sqYM_beVHan3"
      }
    },
    {
      "cell_type": "code",
      "source": [
        "print(tr.data)"
      ],
      "metadata": {
        "colab": {
          "base_uri": "https://localhost:8080/"
        },
        "id": "C4p7pG3BHIjt",
        "outputId": "55cc359d-f62f-40b4-d54d-16f563715e2b"
      },
      "execution_count": 35,
      "outputs": [
        {
          "output_type": "stream",
          "name": "stdout",
          "text": [
            "[-374 -324 -197 ... -208 -182 -314]\n"
          ]
        }
      ]
    },
    {
      "cell_type": "code",
      "source": [
        "print(len(tr.data))"
      ],
      "metadata": {
        "colab": {
          "base_uri": "https://localhost:8080/"
        },
        "id": "IR8DO_o_HlOt",
        "outputId": "a47d71cd-ff90-4080-a628-3d34be42f47d"
      },
      "execution_count": 36,
      "outputs": [
        {
          "output_type": "stream",
          "name": "stdout",
          "text": [
            "3001\n"
          ]
        }
      ]
    },
    {
      "cell_type": "code",
      "source": [
        "import matplotlib.pyplot as plt\n",
        "\n",
        "fig, ax = plt.subplots()\n",
        "ax.plot(tr.data)\n",
        "ax.set_title('raw seismogram')\n",
        "plt.show()"
      ],
      "metadata": {
        "colab": {
          "base_uri": "https://localhost:8080/",
          "height": 281
        },
        "id": "o-5qw1-EHo_t",
        "outputId": "d287694a-30d2-4987-bd93-5a6a7ea0f977"
      },
      "execution_count": 49,
      "outputs": [
        {
          "output_type": "display_data",
          "data": {
            "text/plain": [
              "<Figure size 432x288 with 1 Axes>"
            ],
            "image/png": "[encoded data removed]"
          },
          "metadata": {
            "needs_background": "light"
          }
        }
      ]
    },
    {
      "cell_type": "markdown",
      "source": [
        "nilai waktu suatu seismogram juga dapat diakses dalam berbagai format waktu menggunakan trace.times(), secara default isi array tersebut adalah berapa detik relatif terhadap waktu awal seismogram (trace.stats.starttime)"
      ],
      "metadata": {
        "id": "L-n-IhAJJMBL"
      }
    },
    {
      "cell_type": "code",
      "source": [
        "print(tr.times())"
      ],
      "metadata": {
        "colab": {
          "base_uri": "https://localhost:8080/"
        },
        "id": "9scG0TQgHu-c",
        "outputId": "0303ee2c-5773-45f6-9a0c-4458fcb1b9a6"
      },
      "execution_count": 50,
      "outputs": [
        {
          "output_type": "stream",
          "name": "stdout",
          "text": [
            "[0.000e+00 1.000e-02 2.000e-02 ... 2.998e+01 2.999e+01 3.000e+01]\n"
          ]
        }
      ]
    },
    {
      "cell_type": "code",
      "source": [
        "print(tr.times('utcdatetime'))"
      ],
      "metadata": {
        "colab": {
          "base_uri": "https://localhost:8080/"
        },
        "id": "3xW8-_9sJyQe",
        "outputId": "06b1597a-3d68-4fbb-b72c-6d8085f1b004"
      },
      "execution_count": 51,
      "outputs": [
        {
          "output_type": "stream",
          "name": "stdout",
          "text": [
            "[UTCDateTime(2022, 8, 1, 5, 51, 11)\n",
            " UTCDateTime(2022, 8, 1, 5, 51, 11, 10000)\n",
            " UTCDateTime(2022, 8, 1, 5, 51, 11, 20000) ...\n",
            " UTCDateTime(2022, 8, 1, 5, 51, 40, 980000)\n",
            " UTCDateTime(2022, 8, 1, 5, 51, 40, 990000)\n",
            " UTCDateTime(2022, 8, 1, 5, 51, 41)]\n"
          ]
        }
      ]
    }
  ]
}